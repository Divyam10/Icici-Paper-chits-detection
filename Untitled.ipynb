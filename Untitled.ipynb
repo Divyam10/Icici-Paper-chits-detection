{
 "cells": [
  {
   "cell_type": "code",
   "execution_count": 12,
   "metadata": {},
   "outputs": [
    {
     "name": "stdout",
     "output_type": "stream",
     "text": [
      "C:\\Users\\kishore\\desktop\\icici1\n"
     ]
    }
   ],
   "source": [
    "cd  desktop/icici1\n"
   ]
  },
  {
   "cell_type": "code",
   "execution_count": 1,
   "metadata": {},
   "outputs": [
    {
     "name": "stdout",
     "output_type": "stream",
     "text": [
      "True\n"
     ]
    }
   ],
   "source": [
    "import cv2\n",
    "from shapely.geometry import Point\n",
    "from shapely.geometry.polygon import Polygon\n",
    "\n",
    "point = Point(0.5, 0.5)\n",
    "polygon = Polygon([(0, 0), (0, 1), (1, 1), (1, 0)])\n",
    "print(polygon.contains(point))\n"
   ]
  },
  {
   "cell_type": "code",
   "execution_count": 13,
   "metadata": {},
   "outputs": [],
   "source": [
    "import cv2\n",
    "import numpy as np\n",
    "\n",
    "img = cv2.imread('2 (28).jpg')\n",
    "#kernel = np.ones((5,5),np.uint8)\n",
    "img = cv2.GaussianBlur(img,(5,5),0)\n",
    "\n",
    "\n",
    "kernel = cv2.getStructuringElement(cv2.MORPH_ELLIPSE,(5,5))\n",
    "dilation = cv2.dilate(img,kernel,iterations = 2)\n",
    "\n"
   ]
  },
  {
   "cell_type": "code",
   "execution_count": 15,
   "metadata": {},
   "outputs": [
    {
     "name": "stdout",
     "output_type": "stream",
     "text": [
      "[97 90 96]\n",
      "206 213\n",
      "[114 103 110]\n",
      "212 227\n",
      "[92 79 93]\n",
      "232 231\n",
      "[100  89  99]\n",
      "229 231\n",
      "[87 81 86]\n",
      "201 264\n",
      "[114 109 115]\n",
      "203 234\n",
      "[103  90 103]\n",
      "231 234\n",
      "[77 69 81]\n",
      "232 263\n",
      "[119 105 113]\n",
      "295 269\n",
      "[152 130 138]\n",
      "306 248\n",
      "[210 188 193]\n",
      "391 235\n",
      "[87 81 82]\n",
      "389 384\n",
      "[83 78 77]\n",
      "234 390\n",
      "[89 83 88]\n",
      "214 332\n"
     ]
    }
   ],
   "source": [
    "s=[]\n",
    "d=[]\n",
    "a=[s,d]\n",
    "\n",
    "def draw_circle(event,x,y,flags,param):\n",
    "        global a,s,d \n",
    "\n",
    "        if event == cv2.EVENT_LBUTTONDBLCLK:\n",
    "            \n",
    "            a[0].append(x)\n",
    "            a[1].append(y)\n",
    "            cv2.circle(img, (x,y) , 1, (255,0,0), 1)\n",
    "            print(dilation[y][x])\n",
    "            print(x,y)\n",
    "            #print(x,y)\n",
    "            #print(a)\n",
    "cv2.namedWindow('image')          \n",
    "cv2.setMouseCallback('image',draw_circle)\n",
    "\n",
    "while(1):          \n",
    "    cv2.imshow('image1',img)\n",
    "    cv2.imshow('image',dilation)\n",
    "    if cv2.waitKey(20) & 0xFF == 27:\n",
    "         break\n",
    "cv2.destroyAllWindows()\n"
   ]
  },
  {
   "cell_type": "code",
   "execution_count": null,
   "metadata": {},
   "outputs": [],
   "source": []
  }
 ],
 "metadata": {
  "kernelspec": {
   "display_name": "Python 3",
   "language": "python",
   "name": "python3"
  },
  "language_info": {
   "codemirror_mode": {
    "name": "ipython",
    "version": 3
   },
   "file_extension": ".py",
   "mimetype": "text/x-python",
   "name": "python",
   "nbconvert_exporter": "python",
   "pygments_lexer": "ipython3",
   "version": "3.7.6"
  }
 },
 "nbformat": 4,
 "nbformat_minor": 4
}
